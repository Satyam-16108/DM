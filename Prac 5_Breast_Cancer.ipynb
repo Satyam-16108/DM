{
 "cells": [
  {
   "cell_type": "code",
   "execution_count": 60,
   "metadata": {
    "id": "bzyoo7xDGSK1"
   },
   "outputs": [],
   "source": [
    "from matplotlib import pyplot as plt\n",
    "from sklearn.preprocessing import StandardScaler\n",
    "from sklearn.model_selection import StratifiedKFold\n",
    "from sklearn.datasets import load_breast_cancer\n",
    "from sklearn.neighbors import KNeighborsClassifier\n",
    "from sklearn.tree import DecisionTreeClassifier\n",
    "from sklearn.metrics import classification_report\n",
    "from sklearn.metrics import accuracy_score\n",
    "from sklearn.model_selection import train_test_split\n",
    "from sklearn.metrics import confusion_matrix,precision_score,recall_score,f1_score,ConfusionMatrixDisplay"
   ]
  },
  {
   "cell_type": "code",
   "execution_count": 61,
   "metadata": {
    "id": "cLh3bwKiHhCk"
   },
   "outputs": [],
   "source": [
    "svm = load_breast_cancer()\n",
    "x = svm.data\n",
    "y = svm.target"
   ]
  },
  {
   "cell_type": "code",
   "execution_count": 62,
   "metadata": {
    "colab": {
     "base_uri": "https://localhost:8080/"
    },
    "id": "qVq-FxHbHxQU",
    "outputId": "47428c14-1f13-4354-9139-6891d72dfadd"
   },
   "outputs": [
    {
     "name": "stdout",
     "output_type": "stream",
     "text": [
      "(569, 30)\n"
     ]
    }
   ],
   "source": [
    "print(x.shape)"
   ]
  },
  {
   "cell_type": "code",
   "execution_count": 63,
   "metadata": {
    "colab": {
     "base_uri": "https://localhost:8080/"
    },
    "id": "v-o6AC5fHz_k",
    "outputId": "cfea3bfb-72eb-4917-890a-3fba8f1f8763"
   },
   "outputs": [
    {
     "name": "stdout",
     "output_type": "stream",
     "text": [
      "(569,)\n"
     ]
    }
   ],
   "source": [
    "print(y.shape)"
   ]
  },
  {
   "cell_type": "code",
   "execution_count": 64,
   "metadata": {
    "id": "uOCx9DPjIC7z"
   },
   "outputs": [],
   "source": [
    "k_size = 0.25\n",
    "r_seed = 100\n",
    "X_train,X_test,y_train,y_test=train_test_split(x,y,test_size=k_size,random_state=r_seed)"
   ]
  },
  {
   "cell_type": "code",
   "execution_count": 65,
   "metadata": {
    "colab": {
     "base_uri": "https://localhost:8080/"
    },
    "id": "qfZUyyUNIWi8",
    "outputId": "1c10acdf-4af8-4b29-af0b-634dcbba8945"
   },
   "outputs": [
    {
     "name": "stdout",
     "output_type": "stream",
     "text": [
      "Shape of X_train (426, 30)\n",
      "Shape of y_train (426,)\n",
      "Shape of X_train (143, 30)\n",
      "Shape of y_train (143,)\n"
     ]
    }
   ],
   "source": [
    "print(\"Shape of X_train\" ,X_train.shape)\n",
    "print(\"Shape of y_train\" ,y_train.shape)\n",
    "print(\"Shape of X_train\" ,X_test.shape)\n",
    "print(\"Shape of y_train\" ,y_test.shape)"
   ]
  },
  {
   "cell_type": "markdown",
   "metadata": {
    "id": "iqHQsTTghFwM"
   },
   "source": [
    "# Decision Tree of Hold Out "
   ]
  },
  {
   "cell_type": "code",
   "execution_count": 66,
   "metadata": {
    "colab": {
     "base_uri": "https://localhost:8080/"
    },
    "id": "PK-7_snEI-tE",
    "outputId": "c187405c-471e-48b2-b658-a1617fbfc9b3"
   },
   "outputs": [
    {
     "name": "stdout",
     "output_type": "stream",
     "text": [
      "Hold out  93.00699300699301\n"
     ]
    }
   ],
   "source": [
    "deci_tree =DecisionTreeClassifier(criterion =\"entropy\") # By default gini\n",
    "deci_tree.fit(X_train,y_train)\n",
    "prediction=deci_tree.predict(X_test)\n",
    "accuracy_hold=accuracy_score(y_test,prediction)\n",
    "a1= accuracy_hold*100\n",
    "print( \"Hold out \",a1)"
   ]
  },
  {
   "cell_type": "code",
   "execution_count": 67,
   "metadata": {
    "colab": {
     "base_uri": "https://localhost:8080/",
     "height": 504
    },
    "id": "af2DLIXbJhGk",
    "outputId": "215af644-5c74-4469-a559-f8d473e55c8d"
   },
   "outputs": [
    {
     "data": {
      "text/plain": [
       "<sklearn.metrics._plot.confusion_matrix.ConfusionMatrixDisplay at 0x269d3d1db80>"
      ]
     },
     "execution_count": 67,
     "metadata": {},
     "output_type": "execute_result"
    },
    {
     "data": {
      "image/png": "[encoded data removed]",
      "text/plain": [
       "<Figure size 1500x500 with 2 Axes>"
      ]
     },
     "metadata": {},
     "output_type": "display_data"
    }
   ],
   "source": [
    "fig,(ax1)=plt.subplots()\n",
    "fig.set_size_inches(15,5)\n",
    "ax1.set_title(\"Decision tree\")\n",
    "ConfusionMatrixDisplay.from_estimator(deci_tree,X_test,y_test,ax=ax1)"
   ]
  },
  {
   "cell_type": "markdown",
   "metadata": {
    "id": "qAB-rU8BhSKF"
   },
   "source": [
    "# KNN"
   ]
  },
  {
   "cell_type": "code",
   "execution_count": 68,
   "metadata": {
    "colab": {
     "base_uri": "https://localhost:8080/"
    },
    "id": "hXmCIsYcnhii",
    "outputId": "b5f9ee34-cf93-4d17-ad71-ab9a3515470a"
   },
   "outputs": [
    {
     "name": "stdout",
     "output_type": "stream",
     "text": [
      "Accuracy \n",
      "95.8041958041958\n"
     ]
    },
    {
     "name": "stderr",
     "output_type": "stream",
     "text": [
      "C:\\Users\\CSLab\\anaconda3\\lib\\site-packages\\sklearn\\neighbors\\_classification.py:228: FutureWarning: Unlike other reduction functions (e.g. `skew`, `kurtosis`), the default behavior of `mode` typically preserves the axis it acts along. In SciPy 1.11.0, this behavior will change: the default value of `keepdims` will become False, the `axis` over which the statistic is taken will be eliminated, and the value None will no longer be accepted. Set `keepdims` to True or False to avoid this warning.\n",
      "  mode, _ = stats.mode(_y[neigh_ind, k], axis=1)\n"
     ]
    }
   ],
   "source": [
    "#KNN (Nearst Neighbour)\n",
    "knn = KNeighborsClassifier()\n",
    "knn.fit(X_train,y_train)\n",
    "print(\"Accuracy \")\n",
    "a2 = knn.score(X_test,y_test)*100\n",
    "print(a2)"
   ]
  },
  {
   "cell_type": "markdown",
   "metadata": {
    "id": "iTTZKqiJhfBm"
   },
   "source": [
    "# Naive bayes"
   ]
  },
  {
   "cell_type": "code",
   "execution_count": 69,
   "metadata": {
    "colab": {
     "base_uri": "https://localhost:8080/"
    },
    "id": "85or04-kL8hk",
    "outputId": "34443b9b-d798-4a9c-b9b8-bbe3fb2ab5bd"
   },
   "outputs": [
    {
     "name": "stdout",
     "output_type": "stream",
     "text": [
      "Accuracy of Test Data\n",
      "Naive Bayes Accuracy : 94.4055944055944 %\n",
      "Classification report on test data\n",
      "              precision    recall  f1-score   support\n",
      "\n",
      "           0       0.94      0.91      0.93        56\n",
      "           1       0.94      0.97      0.95        87\n",
      "\n",
      "    accuracy                           0.94       143\n",
      "   macro avg       0.94      0.94      0.94       143\n",
      "weighted avg       0.94      0.94      0.94       143\n",
      "\n"
     ]
    }
   ],
   "source": [
    "from sklearn.naive_bayes import GaussianNB\n",
    "#fitting the model\n",
    "nb=GaussianNB()\n",
    "nb.fit(X_train,y_train)\n",
    "prediction_nb =nb.predict(X_test)\n",
    "\n",
    "print(\"Accuracy of Test Data\")\n",
    "nb_score=accuracy_score(y_test,prediction_nb)\n",
    "\n",
    "a3 = nb_score*100\n",
    "print(\"Naive Bayes Accuracy :\",a3,\"%\")\n",
    "print(\"Classification report on test data\")\n",
    "print(classification_report(y_test,prediction_nb))"
   ]
  },
  {
   "cell_type": "code",
   "execution_count": 70,
   "metadata": {
    "colab": {
     "base_uri": "https://localhost:8080/"
    },
    "id": "U7-HcweKgzoV",
    "outputId": "5d22f646-ede8-4a06-8e0d-47db57bb9b7d"
   },
   "outputs": [
    {
     "name": "stdout",
     "output_type": "stream",
     "text": [
      "Decision tree accuracy:  92.39766081871343 %\n"
     ]
    }
   ],
   "source": [
    "import numpy as np\n",
    "k=20\n",
    "dta = []\n",
    "for i in range(k):\n",
    "    x_train, x_test, y_train, y_test = train_test_split(x, y, test_size=.3)\n",
    "    deci_tree.fit(x_train, y_train)\n",
    "    dta.append(deci_tree.score(x_test, y_test))\n",
    "a4 = np.mean(dta)*100\n",
    "print(\"Decision tree accuracy: \" ,a4,\"%\")"
   ]
  },
  {
   "cell_type": "markdown",
   "metadata": {
    "id": "MxBgnwtjhPdt"
   },
   "source": [
    "# Cross validation"
   ]
  },
  {
   "cell_type": "code",
   "execution_count": 71,
   "metadata": {
    "id": "ZIyrAnYWqx6Q"
   },
   "outputs": [],
   "source": [
    "from sklearn.model_selection import cross_val_score\n",
    "scores = cross_val_score(deci_tree,svm.data,svm.target,cv=5)"
   ]
  },
  {
   "cell_type": "code",
   "execution_count": 72,
   "metadata": {
    "id": "dNXvUjsqqx_t"
   },
   "outputs": [],
   "source": [
    "mean_accuracy =scores.mean()\n",
    "std_accuracy=scores.std()"
   ]
  },
  {
   "cell_type": "code",
   "execution_count": 73,
   "metadata": {
    "colab": {
     "base_uri": "https://localhost:8080/"
    },
    "id": "tl4aCJGMrgrw",
    "outputId": "29bc4070-9c3b-4bf0-8181-70fa00b76e2b"
   },
   "outputs": [
    {
     "name": "stdout",
     "output_type": "stream",
     "text": [
      "93.85033379909953\n"
     ]
    }
   ],
   "source": [
    "a5 = mean_accuracy*100\n",
    "print(a5)"
   ]
  },
  {
   "cell_type": "code",
   "execution_count": 77,
   "metadata": {
    "colab": {
     "base_uri": "https://localhost:8080/"
    },
    "id": "nNKbkzEgbHIk",
    "outputId": "d9f9b374-545c-4754-e3c3-c62916636fb8"
   },
   "outputs": [
    {
     "name": "stdout",
     "output_type": "stream",
     "text": [
      "Accurcay of Hold Out  93.00699300699301\n",
      "Accurcay of KNN  95.8041958041958\n",
      "Accurcay of Naive Bayes  94.4055944055944\n",
      "Accurcay of Cross Validation  92.39766081871343\n",
      "X_train shape: (18, 30)\n",
      "y_train shape: (18,)\n"
     ]
    }
   ],
   "source": [
    "print(\"Accurcay of Hold Out \",a1)\n",
    "print(\"Accurcay of KNN \",a2)\n",
    "print(\"Accurcay of Naive Bayes \",a3)\n",
    "print(\"Accurcay of Cross Validation \",a4)\n",
    "print(\"X_train shape:\", X_train.shape)\n",
    "print(\"y_train shape:\", y_train.shape)\n"
   ]
  },
  {
   "cell_type": "markdown",
   "metadata": {},
   "source": [
    "# Random Sub-Sampling"
   ]
  },
  {
   "cell_type": "code",
   "execution_count": 80,
   "metadata": {},
   "outputs": [
    {
     "name": "stdout",
     "output_type": "stream",
     "text": [
      "Accuracy: 1.0\n"
     ]
    },
    {
     "ename": "NameError",
     "evalue": "name 'iris' is not defined",
     "output_type": "error",
     "traceback": [
      "\u001b[1;31m---------------------------------------------------------------------------\u001b[0m",
      "\u001b[1;31mNameError\u001b[0m                                 Traceback (most recent call last)",
      "\u001b[1;32m~\\AppData\\Local\\Temp\\ipykernel_12088\\2905739651.py\u001b[0m in \u001b[0;36m<module>\u001b[1;34m\u001b[0m\n\u001b[0;32m     33\u001b[0m \u001b[1;33m\u001b[0m\u001b[0m\n\u001b[0;32m     34\u001b[0m \u001b[1;31m# Generate classification report\u001b[0m\u001b[1;33m\u001b[0m\u001b[1;33m\u001b[0m\u001b[0m\n\u001b[1;32m---> 35\u001b[1;33m \u001b[0mreport\u001b[0m \u001b[1;33m=\u001b[0m \u001b[0mclassification_report\u001b[0m\u001b[1;33m(\u001b[0m\u001b[0my_test\u001b[0m\u001b[1;33m,\u001b[0m \u001b[0my_pred\u001b[0m\u001b[1;33m,\u001b[0m \u001b[0mtarget_names\u001b[0m\u001b[1;33m=\u001b[0m\u001b[0miris\u001b[0m\u001b[1;33m.\u001b[0m\u001b[0mtarget_names\u001b[0m\u001b[1;33m)\u001b[0m\u001b[1;33m\u001b[0m\u001b[1;33m\u001b[0m\u001b[0m\n\u001b[0m\u001b[0;32m     36\u001b[0m \u001b[0mprint\u001b[0m\u001b[1;33m(\u001b[0m\u001b[1;34m\"Classification Report:\"\u001b[0m\u001b[1;33m)\u001b[0m\u001b[1;33m\u001b[0m\u001b[1;33m\u001b[0m\u001b[0m\n\u001b[0;32m     37\u001b[0m \u001b[0mprint\u001b[0m\u001b[1;33m(\u001b[0m\u001b[0mreport\u001b[0m\u001b[1;33m)\u001b[0m\u001b[1;33m\u001b[0m\u001b[1;33m\u001b[0m\u001b[0m\n",
      "\u001b[1;31mNameError\u001b[0m: name 'iris' is not defined"
     ]
    }
   ],
   "source": [
    "svm = load_breast_cancer()\n",
    "x = svm.data\n",
    "y = svm.target\n",
    "\n",
    "subsample_size = 25  \n",
    "test_size = 0.25  # 25% of the data will be used for testing\n",
    "indices = np.random.choice(len(x), size=subsample_size, replace=True)\n",
    "\n",
    "x_subsample = x[indices]\n",
    "y_subsample = y[indices]\n",
    "\n",
    "# Split the subsampled data into training and testing sets\n",
    "X_train, X_test, y_train, y_test = train_test_split(x_subsample, y_subsample, test_size=test_size, random_state=42)\n",
    "\n",
    "# Standardize the features\n",
    "scaler = StandardScaler()\n",
    "X_train_scaled = scaler.fit_transform(X_train)\n",
    "X_test_scaled = scaler.transform(X_test)# Standardize the features\n",
    "scaler = StandardScaler()\n",
    "X_train_scaled = scaler.fit_transform(X_train)\n",
    "X_test_scaled = scaler.transform(X_test)\n",
    "\n",
    "# Train Decision Tree Classifier on the scaled training data\n",
    "deci_tree = DecisionTreeClassifier(criterion=\"entropy\")\n",
    "deci_tree.fit(X_train_scaled, y_train)\n",
    "\n",
    "# Predict on the scaled test data\n",
    "y_pred = deci_tree.predict(X_test_scaled)\n",
    "\n",
    "# Calculate accuracy\n",
    "accuracy = accuracy_score(y_test, y_pred)\n",
    "print(\"Accuracy:\", accuracy)\n",
    "\n",
    "# Generate classification report\n",
    "report = classification_report(y_test, y_pred, target_names=iris.target_names)\n",
    "print(\"Classification Report:\")\n",
    "print(report)"
   ]
  }
 ],
 "metadata": {
  "colab": {
   "provenance": []
  },
  "kernelspec": {
   "display_name": "Python 3 (ipykernel)",
   "language": "python",
   "name": "python3"
  },
  "language_info": {
   "codemirror_mode": {
    "name": "ipython",
    "version": 3
   },
   "file_extension": ".py",
   "mimetype": "text/x-python",
   "name": "python",
   "nbconvert_exporter": "python",
   "pygments_lexer": "ipython3",
   "version": "3.9.13"
  }
 },
 "nbformat": 4,
 "nbformat_minor": 1
}
